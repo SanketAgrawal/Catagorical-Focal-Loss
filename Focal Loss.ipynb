{
 "cells": [
  {
   "cell_type": "code",
   "execution_count": 1,
   "metadata": {
    "ExecuteTime": {
     "end_time": "2019-06-01T19:00:49.015501Z",
     "start_time": "2019-06-01T19:00:45.604104Z"
    }
   },
   "outputs": [],
   "source": [
    "from tensorflow.python.ops import math_ops\n",
    "from tensorflow.python.framework import ops\n",
    "from tensorflow.python.ops import clip_ops\n",
    "import tensorflow as tf"
   ]
  },
  {
   "cell_type": "code",
   "execution_count": 2,
   "metadata": {
    "ExecuteTime": {
     "end_time": "2019-06-01T19:00:49.028385Z",
     "start_time": "2019-06-01T19:00:49.017462Z"
    }
   },
   "outputs": [],
   "source": [
    "_EPSILON = 1e-7\n",
    "\n",
    "def categorical_focal_loss(target, output, alpha, gamma=2, axis=-1):\n",
    "    \"\"\"Categorical focal loss between an output tensor and a target tensor.\n",
    "    Arguments:\n",
    "      target: A tensor of the same shape as `output`.\n",
    "      \n",
    "      output: A tensor resulting from a softmax\n",
    "          (unless `from_logits` is True, in which\n",
    "          case `output` is expected to be the logits).\n",
    "      \n",
    "      alpha: values for class imbalance\n",
    "      \n",
    "      gamma: focusing parameter used to calculate the modulating factor\n",
    "      \n",
    "      axis: Int specifying the channels axis. `axis=-1` corresponds to data\n",
    "          format `channels_last', and `axis=1` corresponds to data format\n",
    "          `channels_first`.\n",
    "    Returns:\n",
    "      Output tensor.\n",
    "    Raises:\n",
    "      ValueError: if `axis` is neither -1 nor one of the axes of `output`.\n",
    "    \"\"\"\n",
    "    rank = len(output.shape)\n",
    "    axis = axis % rank\n",
    "    # scale preds so that the class probas of each sample sum to 1\n",
    "    output = output / math_ops.reduce_sum(output, axis, True)\n",
    "    # manual computation of crossentropy\n",
    "    epsilon_ = ops.convert_to_tensor(_EPSILON, output.dtype.base_dtype)\n",
    "    output = clip_ops.clip_by_value(output, epsilon_, 1. - epsilon_)\n",
    "    \n",
    "    return -math_ops.reduce_sum(tf.matmul( target * math_ops.log(output)*math_ops.pow(1-output, gamma), tf.transpose(alpha)), axis)"
   ]
  },
  {
   "cell_type": "code",
   "execution_count": 5,
   "metadata": {
    "ExecuteTime": {
     "end_time": "2019-06-01T19:02:47.701008Z",
     "start_time": "2019-06-01T19:02:47.651331Z"
    }
   },
   "outputs": [
    {
     "name": "stdout",
     "output_type": "stream",
     "text": [
      "[3.3881318e-22 9.4746538e-03 6.4201499e-03 1.3925669e-02]\n"
     ]
    }
   ],
   "source": [
    "#Checking the loss function\n",
    "target = tf.constant([[1., 0., 0.], [0., 0., 1.], [1., 0., 0.], [0., 1., 0.]])\n",
    "output = tf.constant([[1., 0., 0.], [0.1, 0.2, 0.8], [0.7, 0.1, 0.2], [0.1, 0.9, 0.3]])\n",
    "results = categorical_focal_loss(target, output, tf.constant([[0.2, 0.4, 0.4]]))\n",
    "sess = tf.Session()\n",
    "result = sess.run(results)\n",
    "print(result)\n",
    "sess.close()"
   ]
  }
 ],
 "metadata": {
  "kernelspec": {
   "display_name": "Python 3",
   "language": "python",
   "name": "python3"
  },
  "language_info": {
   "codemirror_mode": {
    "name": "ipython",
    "version": 3
   },
   "file_extension": ".py",
   "mimetype": "text/x-python",
   "name": "python",
   "nbconvert_exporter": "python",
   "pygments_lexer": "ipython3",
   "version": "3.6.6"
  }
 },
 "nbformat": 4,
 "nbformat_minor": 2
}
